{
 "cells": [
  {
   "cell_type": "code",
   "execution_count": 1,
   "metadata": {},
   "outputs": [
    {
     "data": {
      "application/javascript": [
       "\n",
       "try {\n",
       "require(['notebook/js/codecell'], function(codecell) {\n",
       "  codecell.CodeCell.options_default.highlight_modes[\n",
       "      'magic_text/x-csrc'] = {'reg':[/^%%microblaze/]};\n",
       "  Jupyter.notebook.events.one('kernel_ready.Kernel', function(){\n",
       "      Jupyter.notebook.get_cells().map(function(cell){\n",
       "          if (cell.cell_type == 'code'){ cell.auto_highlight(); } }) ;\n",
       "  });\n",
       "});\n",
       "} catch (e) {};\n"
      ]
     },
     "metadata": {},
     "output_type": "display_data"
    },
    {
     "data": {
      "application/javascript": [
       "\n",
       "try {\n",
       "require(['notebook/js/codecell'], function(codecell) {\n",
       "  codecell.CodeCell.options_default.highlight_modes[\n",
       "      'magic_text/x-csrc'] = {'reg':[/^%%pybind11/]};\n",
       "  Jupyter.notebook.events.one('kernel_ready.Kernel', function(){\n",
       "      Jupyter.notebook.get_cells().map(function(cell){\n",
       "          if (cell.cell_type == 'code'){ cell.auto_highlight(); } }) ;\n",
       "  });\n",
       "});\n",
       "} catch (e) {};\n"
      ]
     },
     "metadata": {},
     "output_type": "display_data"
    }
   ],
   "source": [
    "import pynq\n",
    "import numpy as np\n",
    "import time, struct, os, mmap\n",
    "import utils"
   ]
  },
  {
   "cell_type": "code",
   "execution_count": 2,
   "metadata": {},
   "outputs": [],
   "source": [
    "bitfile = '../bitfiles/bram_intf/bram_intf.bit'\n",
    "reg_base = 0x41c00000\n",
    "mem_base = 0x41100000\n",
    "\n",
    "length=4096"
   ]
  },
  {
   "cell_type": "code",
   "execution_count": 3,
   "metadata": {},
   "outputs": [
    {
     "data": {
      "text/plain": [
       "<pynq.overlay.Overlay at 0xb4335330>"
      ]
     },
     "execution_count": 3,
     "metadata": {},
     "output_type": "execute_result"
    }
   ],
   "source": [
    "pynq.Overlay(bitfile)"
   ]
  },
  {
   "cell_type": "code",
   "execution_count": 6,
   "metadata": {},
   "outputs": [],
   "source": [
    "#my own implementation\n",
    "reg = utils.mmio(reg_base,16)\n",
    "bram = utils.mmio(mem_base, length)"
   ]
  },
  {
   "cell_type": "code",
   "execution_count": 13,
   "metadata": {},
   "outputs": [
    {
     "name": "stdout",
     "output_type": "stream",
     "text": [
      "write data from axil bram\n",
      "read data from axil bram\n",
      "pass\n",
      "\n",
      "Read data from axil reg\n",
      "pass\n",
      "\n",
      "Write data from axil reg\n",
      "Read from axil reg\n",
      "[0]\n",
      "[1]\n",
      "[2]\n",
      "[3]\n",
      "[4]\n",
      "[5]\n",
      "[6]\n",
      "[7]\n",
      "[8]\n",
      "[9]\n",
      "[10]\n",
      "[11]\n",
      "[12]\n",
      "[13]\n",
      "[14]\n",
      "[15]\n",
      "[16]\n",
      "[17]\n",
      "[18]\n",
      "[19]\n",
      "[20]\n",
      "[21]\n",
      "[22]\n",
      "[23]\n",
      "[24]\n",
      "[25]\n",
      "[26]\n",
      "[27]\n",
      "[28]\n",
      "[29]\n",
      "[30]\n",
      "[31]\n",
      "[32]\n",
      "[33]\n",
      "[34]\n",
      "[35]\n",
      "[36]\n",
      "[37]\n",
      "[38]\n",
      "[39]\n",
      "[40]\n",
      "[41]\n",
      "[42]\n",
      "[43]\n",
      "[44]\n",
      "[45]\n",
      "[46]\n",
      "[47]\n",
      "[48]\n",
      "[49]\n",
      "[50]\n",
      "[51]\n",
      "[52]\n",
      "[53]\n",
      "[54]\n",
      "[55]\n",
      "[56]\n",
      "[57]\n",
      "[58]\n",
      "[59]\n",
      "[60]\n",
      "[61]\n",
      "[62]\n",
      "[63]\n",
      "pass\n",
      "\n",
      "read data from axil bram\n",
      "pass\n",
      "\n"
     ]
    }
   ],
   "source": [
    "test_data = np.arange(64).astype('i4')-32\n",
    "print('write data from axil bram')\n",
    "bram.write(0, test_data, dtype='i4')\n",
    "print('read data from axil bram')\n",
    "out = bram.read(0, len(test_data)*4)\n",
    "for i in range(len(out)):\n",
    "    assert (test_data[i]==out[i])\n",
    "print('pass\\n')\n",
    "\n",
    "print('Read data from axil reg')\n",
    "reg.write(2*4,np.array(0))\n",
    "for i in range(len(test_data)):\n",
    "    reg.write(4, np.array(i))\n",
    "    out = reg.read(4*3, 4)\n",
    "    assert (out==test_data[i])\n",
    "print('pass\\n')\n",
    "\n",
    "print('Write data from axil reg')\n",
    "reg.write(2*4,np.array(1))\n",
    "reg.write(4, np.array(0))\n",
    "test_data = np.arange(64).astype('i4')\n",
    "for i in range(len(test_data)):\n",
    "    reg.write(4, np.array(i))\n",
    "    reg.write(0, np.array(i))\n",
    "\n",
    "print('Read from axil reg')\n",
    "reg.write(2*4,np.array(0))\n",
    "for i in range(len(test_data)):\n",
    "    reg.write(4, np.array(i))\n",
    "    out = reg.read(4*3, 4)\n",
    "    assert (out==test_data[i])\n",
    "print('pass\\n')\n",
    "\n",
    "print('read data from axil bram')\n",
    "out = bram.read(0, len(test_data)*4)\n",
    "for i in range(len(out)):\n",
    "    assert (test_data[i]==out[i])\n",
    "print('pass\\n')\n",
    "    "
   ]
  },
  {
   "cell_type": "code",
   "execution_count": 33,
   "metadata": {},
   "outputs": [
    {
     "name": "stdout",
     "output_type": "stream",
     "text": [
      "Writing using axil bram\n",
      "Read using axil bram\n"
     ]
    },
    {
     "ename": "ValueError",
     "evalue": "must have exactly one of create/read/write/append mode",
     "output_type": "error",
     "traceback": [
      "\u001b[0;31m---------------------------------------------------------------------------\u001b[0m",
      "\u001b[0;31mValueError\u001b[0m                                Traceback (most recent call last)",
      "\u001b[0;32m<ipython-input-33-df053ea2c590>\u001b[0m in \u001b[0;36m<module>\u001b[0;34m()\u001b[0m\n\u001b[1;32m     13\u001b[0m \u001b[0;31m##As i dont handle the data type is better to map the memories by myself >:(\u001b[0m\u001b[0;34m\u001b[0m\u001b[0;34m\u001b[0m\u001b[0m\n\u001b[1;32m     14\u001b[0m \u001b[0mmem_file\u001b[0m \u001b[0;34m=\u001b[0m \u001b[0;34m'/dev/mem'\u001b[0m\u001b[0;34m\u001b[0m\u001b[0m\n\u001b[0;32m---> 15\u001b[0;31m \u001b[0mmem\u001b[0m \u001b[0;34m=\u001b[0m \u001b[0mopen\u001b[0m\u001b[0;34m(\u001b[0m\u001b[0mmem_file\u001b[0m\u001b[0;34m,\u001b[0m \u001b[0;34m'rw+b'\u001b[0m\u001b[0;34m)\u001b[0m\u001b[0;34m\u001b[0m\u001b[0m\n\u001b[0m\u001b[1;32m     16\u001b[0m \u001b[0mbram_mm\u001b[0m \u001b[0;34m=\u001b[0m \u001b[0mmmap\u001b[0m\u001b[0;34m.\u001b[0m\u001b[0mmmap\u001b[0m\u001b[0;34m(\u001b[0m\u001b[0mmem\u001b[0m\u001b[0;34m.\u001b[0m\u001b[0mfileno\u001b[0m\u001b[0;34m(\u001b[0m\u001b[0;34m)\u001b[0m\u001b[0;34m,\u001b[0m \u001b[0mlength\u001b[0m\u001b[0;34m,\u001b[0m \u001b[0moffset\u001b[0m\u001b[0;34m=\u001b[0m\u001b[0mmem_base\u001b[0m\u001b[0;34m)\u001b[0m\u001b[0;34m\u001b[0m\u001b[0m\n",
      "\u001b[0;31mValueError\u001b[0m: must have exactly one of create/read/write/append mode"
     ]
    }
   ],
   "source": [
    "##pynq functions\n",
    "reg = pynq.MMIO(reg_base,8)\n",
    "bram = pynq.MMIO(mem_base, length)\n",
    "##some basic test\n",
    "test_data = [x for x in range(64)]\n",
    "bin_data = struct.pack('64I', *test_data)\n",
    "print('Writing using axil bram')\n",
    "bram.write(0, bin_data)\n",
    "\n",
    "time.sleep(0.5)\n",
    "print('Read using axil bram')\n",
    "out = bram.array[:64]     #this always read it as 32-int :(\n",
    "for i in range(len(out)):\n",
    "    assert (i==out[i])\n",
    "\n"
   ]
  },
  {
   "cell_type": "code",
   "execution_count": 10,
   "metadata": {},
   "outputs": [
    {
     "data": {
      "text/plain": [
       "(0,\n",
       " 0,\n",
       " 0,\n",
       " 0,\n",
       " 0,\n",
       " 0,\n",
       " 0,\n",
       " 0,\n",
       " 0,\n",
       " 0,\n",
       " 0,\n",
       " 0,\n",
       " 0,\n",
       " 0,\n",
       " 0,\n",
       " 0,\n",
       " 0,\n",
       " 0,\n",
       " 0,\n",
       " 0,\n",
       " 0,\n",
       " 0,\n",
       " 0,\n",
       " 0,\n",
       " 0,\n",
       " 0,\n",
       " 0,\n",
       " 0,\n",
       " 0,\n",
       " 0,\n",
       " 0,\n",
       " 0,\n",
       " 0,\n",
       " 0,\n",
       " 0,\n",
       " 0,\n",
       " 0,\n",
       " 0,\n",
       " 0,\n",
       " 0,\n",
       " 0,\n",
       " 0,\n",
       " 0,\n",
       " 0,\n",
       " 0,\n",
       " 0,\n",
       " 0,\n",
       " 0,\n",
       " 0,\n",
       " 0,\n",
       " 0,\n",
       " 0,\n",
       " 0,\n",
       " 0,\n",
       " 0,\n",
       " 0,\n",
       " 0,\n",
       " 0,\n",
       " 0,\n",
       " 0,\n",
       " 0,\n",
       " 0,\n",
       " 0,\n",
       " 0)"
      ]
     },
     "execution_count": 10,
     "metadata": {},
     "output_type": "execute_result"
    }
   ],
   "source": [
    "#it seems thats better to map it myself >:(\n",
    "mmap_file = os.open('/dev/mem', os.O_RDWR | os.O_SYNC)\n",
    "mem = mmap.mmap(mmap_file, length,\n",
    "                        mmap.MAP_SHARED,\n",
    "                        mmap.PROT_READ | mmap.PROT_WRITE,\n",
    "                        offset=mem_base)\n",
    "os.close(mmap_file)\n",
    "struct.unpack('64I',mem[:64*4])\n"
   ]
  }
 ],
 "metadata": {
  "kernelspec": {
   "display_name": "Python 3",
   "language": "python",
   "name": "python3"
  },
  "language_info": {
   "codemirror_mode": {
    "name": "ipython",
    "version": 3
   },
   "file_extension": ".py",
   "mimetype": "text/x-python",
   "name": "python",
   "nbconvert_exporter": "python",
   "pygments_lexer": "ipython3",
   "version": "3.6.5"
  }
 },
 "nbformat": 4,
 "nbformat_minor": 2
}
